{
  "cells": [
    {
      "cell_type": "markdown",
      "metadata": {
        "id": "view-in-github",
        "colab_type": "text"
      },
      "source": [
        "<a href=\"https://colab.research.google.com/github/pedrosantos-code/Exercicio_py/blob/main/CP1_Entrega.ipynb\" target=\"_parent\"><img src=\"https://colab.research.google.com/assets/colab-badge.svg\" alt=\"Open In Colab\"/></a>"
      ]
    },
    {
      "cell_type": "code",
      "execution_count": null,
      "metadata": {
        "id": "JQUxgeam1swK"
      },
      "outputs": [],
      "source": [
        "# NOME DO ALUNO: Pedro Pereira dos Santos\n",
        "# MATRÍCULA: RM552047"
      ]
    },
    {
      "cell_type": "code",
      "execution_count": null,
      "metadata": {
        "metadata": {},
        "id": "Y_eO0m611swM"
      },
      "outputs": [],
      "source": [
        "#20 ---------------------------\n",
        "import pandas as pd\n",
        "import numpy as np\n",
        "import matplotlib.pyplot as plt\n",
        "import seaborn as sns\n",
        "\n",
        "# Importação das principais bibliotecas para manipulação, análise e visualização de dados."
      ]
    },
    {
      "cell_type": "code",
      "execution_count": null,
      "metadata": {
        "metadata": {},
        "id": "6k0UVY--1swM",
        "colab": {
          "base_uri": "https://localhost:8080/"
        },
        "outputId": "16ad5e05-2ae1-4d92-d3fc-992036f41adc"
      },
      "outputs": [
        {
          "output_type": "execute_result",
          "data": {
            "text/plain": [
              "84"
            ]
          },
          "metadata": {},
          "execution_count": 44
        }
      ],
      "source": [
        "#2 ---------------------------\n",
        "survey = pd.read_csv('/content/CP1 Stack Overflow.csv')\n",
        "len(survey.columns)\n",
        "\n",
        "# Carrega o arquivo CSV em um DataFrame e exibe a quantidade de colunas presentes."
      ]
    },
    {
      "cell_type": "code",
      "execution_count": null,
      "metadata": {
        "metadata": {},
        "id": "nTZJsz2B1swM",
        "colab": {
          "base_uri": "https://localhost:8080/"
        },
        "outputId": "66c7e89c-e5a4-44d0-92ba-85d669579f3a"
      },
      "outputs": [
        {
          "output_type": "stream",
          "name": "stdout",
          "text": [
            "<class 'pandas.core.frame.DataFrame'>\n",
            "RangeIndex: 89184 entries, 0 to 89183\n",
            "Data columns (total 84 columns):\n",
            " #   Column                               Non-Null Count  Dtype  \n",
            "---  ------                               --------------  -----  \n",
            " 0   ResponseId                           89184 non-null  int64  \n",
            " 1   Q120                                 89184 non-null  object \n",
            " 2   MainBranch                           89184 non-null  object \n",
            " 3   Age                                  89184 non-null  object \n",
            " 4   Employment                           87898 non-null  object \n",
            " 5   RemoteWork                           73810 non-null  object \n",
            " 6   CodingActivities                     73764 non-null  object \n",
            " 7   EdLevel                              87973 non-null  object \n",
            " 8   LearnCode                            87663 non-null  object \n",
            " 9   LearnCodeOnline                      70084 non-null  object \n",
            " 10  LearnCodeCoursesCert                 37076 non-null  object \n",
            " 11  YearsCode                            87435 non-null  object \n",
            " 12  YearsCodePro                         66136 non-null  object \n",
            " 13  DevType                              76872 non-null  object \n",
            " 14  OrgSize                              65043 non-null  object \n",
            " 15  PurchaseInfluence                    64964 non-null  object \n",
            " 16  TechList                             60851 non-null  object \n",
            " 17  BuyNewTool                           83009 non-null  object \n",
            " 18  Country                              87973 non-null  object \n",
            " 19  Currency                             65334 non-null  object \n",
            " 20  CompTotal                            48225 non-null  float64\n",
            " 21  LanguageHaveWorkedWith               87140 non-null  object \n",
            " 22  LanguageWantToWorkWith               80709 non-null  object \n",
            " 23  DatabaseHaveWorkedWith               73435 non-null  object \n",
            " 24  DatabaseWantToWorkWith               60911 non-null  object \n",
            " 25  PlatformHaveWorkedWith               63628 non-null  object \n",
            " 26  PlatformWantToWorkWith               51308 non-null  object \n",
            " 27  WebframeHaveWorkedWith               66938 non-null  object \n",
            " 28  WebframeWantToWorkWith               56741 non-null  object \n",
            " 29  MiscTechHaveWorkedWith               57019 non-null  object \n",
            " 30  MiscTechWantToWorkWith               46848 non-null  object \n",
            " 31  ToolsTechHaveWorkedWith              77884 non-null  object \n",
            " 32  ToolsTechWantToWorkWith              68315 non-null  object \n",
            " 33  NEWCollabToolsHaveWorkedWith         85864 non-null  object \n",
            " 34  NEWCollabToolsWantToWorkWith         76649 non-null  object \n",
            " 35  OpSysPersonal use                    86557 non-null  object \n",
            " 36  OpSysProfessional use                78587 non-null  object \n",
            " 37  OfficeStackAsyncHaveWorkedWith       69090 non-null  object \n",
            " 38  OfficeStackAsyncWantToWorkWith       53743 non-null  object \n",
            " 39  OfficeStackSyncHaveWorkedWith        83439 non-null  object \n",
            " 40  OfficeStackSyncWantToWorkWith        69776 non-null  object \n",
            " 41  AISearchHaveWorkedWith               56328 non-null  object \n",
            " 42  AISearchWantToWorkWith               46150 non-null  object \n",
            " 43  AIDevHaveWorkedWith                  25904 non-null  object \n",
            " 44  AIDevWantToWorkWith                  19587 non-null  object \n",
            " 45  NEWSOSites                           87973 non-null  object \n",
            " 46  SOVisitFreq                          87140 non-null  object \n",
            " 47  SOAccount                            87852 non-null  object \n",
            " 48  SOPartFreq                           66061 non-null  object \n",
            " 49  SOComm                               87692 non-null  object \n",
            " 50  SOAI                                 47858 non-null  object \n",
            " 51  AISelect                             87973 non-null  object \n",
            " 52  AISent                               61501 non-null  object \n",
            " 53  AIAcc                                38594 non-null  object \n",
            " 54  AIBen                                61396 non-null  object \n",
            " 55  AIToolInterested in Using            32783 non-null  object \n",
            " 56  AIToolCurrently Using                36137 non-null  object \n",
            " 57  AIToolNot interested in Using        21069 non-null  object \n",
            " 58  AINextVery different                 12661 non-null  object \n",
            " 59  AINextNeither different nor similar  6599 non-null   object \n",
            " 60  AINextSomewhat similar               6238 non-null   object \n",
            " 61  AINextVery similar                   2621 non-null   object \n",
            " 62  AINextSomewhat different             23303 non-null  object \n",
            " 63  TBranch                              65768 non-null  object \n",
            " 64  ICorPM                               43668 non-null  object \n",
            " 65  WorkExp                              43579 non-null  float64\n",
            " 66  Knowledge_1                          42535 non-null  object \n",
            " 67  Knowledge_2                          41670 non-null  object \n",
            " 68  Knowledge_3                          41798 non-null  object \n",
            " 69  Knowledge_4                          41684 non-null  object \n",
            " 70  Knowledge_5                          41527 non-null  object \n",
            " 71  Knowledge_6                          41520 non-null  object \n",
            " 72  Knowledge_7                          41467 non-null  object \n",
            " 73  Knowledge_8                          41404 non-null  object \n",
            " 74  Frequency_1                          41916 non-null  object \n",
            " 75  Frequency_2                          41925 non-null  object \n",
            " 76  Frequency_3                          41054 non-null  object \n",
            " 77  TimeSearching                        42778 non-null  object \n",
            " 78  TimeAnswering                        42629 non-null  object \n",
            " 79  ProfessionalTech                     41783 non-null  object \n",
            " 80  Industry                             36774 non-null  object \n",
            " 81  SurveyLength                         86485 non-null  object \n",
            " 82  SurveyEase                           86554 non-null  object \n",
            " 83  ConvertedCompYearly                  48019 non-null  float64\n",
            "dtypes: float64(3), int64(1), object(80)\n",
            "memory usage: 57.2+ MB\n"
          ]
        }
      ],
      "source": [
        "#3 ---------------------------\n",
        "survey.info()\n",
        "\n",
        "# Exibe informações sobre o DataFrame:\n",
        "# - 84 colunas no total.\n",
        "# - 1 coluna com tipo inteiro (int64).\n",
        "# - 3 colunas com tipo flutuante (float64).\n",
        "# - Uso de memória: 57.2 MB."
      ]
    },
    {
      "cell_type": "code",
      "execution_count": null,
      "metadata": {
        "metadata": {},
        "id": "sIXM8Yyr1swM",
        "colab": {
          "base_uri": "https://localhost:8080/",
          "height": 625
        },
        "outputId": "943395a4-abd2-4bb2-98b9-1a1f5d0a7f03"
      },
      "outputs": [
        {
          "output_type": "execute_result",
          "data": {
            "text/plain": [
              "                       MainBranch              Age  \\\n",
              "0                   None of these  18-24 years old   \n",
              "1  I am a developer by profession  25-34 years old   \n",
              "2  I am a developer by profession  45-54 years old   \n",
              "3  I am a developer by profession  25-34 years old   \n",
              "4  I am a developer by profession  25-34 years old   \n",
              "\n",
              "                                          Employment  \\\n",
              "0                                                NaN   \n",
              "1                                Employed, full-time   \n",
              "2                                Employed, full-time   \n",
              "3                                Employed, full-time   \n",
              "4  Employed, full-time;Independent contractor, fr...   \n",
              "\n",
              "                             RemoteWork  \\\n",
              "0                                   NaN   \n",
              "1                                Remote   \n",
              "2  Hybrid (some remote, some in-person)   \n",
              "3  Hybrid (some remote, some in-person)   \n",
              "4                                Remote   \n",
              "\n",
              "                                        EdLevel  \\\n",
              "0                                           NaN   \n",
              "1  Bachelor’s degree (B.A., B.S., B.Eng., etc.)   \n",
              "2  Bachelor’s degree (B.A., B.S., B.Eng., etc.)   \n",
              "3  Bachelor’s degree (B.A., B.S., B.Eng., etc.)   \n",
              "4  Bachelor’s degree (B.A., B.S., B.Eng., etc.)   \n",
              "\n",
              "                                DevType                   OrgSize  \\\n",
              "0                                   NaN                       NaN   \n",
              "1  Senior Executive (C-Suite, VP, etc.)          2 to 9 employees   \n",
              "2                   Developer, back-end  5,000 to 9,999 employees   \n",
              "3                  Developer, front-end      100 to 499 employees   \n",
              "4                 Developer, full-stack        20 to 99 employees   \n",
              "\n",
              "                    Country  ConvertedCompYearly  WorkExp  \\\n",
              "0                       NaN                  NaN      NaN   \n",
              "1  United States of America             285000.0     10.0   \n",
              "2  United States of America             250000.0     23.0   \n",
              "3  United States of America             156000.0      7.0   \n",
              "4               Philippines              23456.0      6.0   \n",
              "\n",
              "                                            Industry  \n",
              "0                                                NaN  \n",
              "1  Information Services, IT, Software Development...  \n",
              "2  Information Services, IT, Software Development...  \n",
              "3                                                NaN  \n",
              "4                                              Other  "
            ],
            "text/html": [
              "\n",
              "  <div id=\"df-d785e478-2ec5-4560-9c51-a02ead81377a\" class=\"colab-df-container\">\n",
              "    <div>\n",
              "<style scoped>\n",
              "    .dataframe tbody tr th:only-of-type {\n",
              "        vertical-align: middle;\n",
              "    }\n",
              "\n",
              "    .dataframe tbody tr th {\n",
              "        vertical-align: top;\n",
              "    }\n",
              "\n",
              "    .dataframe thead th {\n",
              "        text-align: right;\n",
              "    }\n",
              "</style>\n",
              "<table border=\"1\" class=\"dataframe\">\n",
              "  <thead>\n",
              "    <tr style=\"text-align: right;\">\n",
              "      <th></th>\n",
              "      <th>MainBranch</th>\n",
              "      <th>Age</th>\n",
              "      <th>Employment</th>\n",
              "      <th>RemoteWork</th>\n",
              "      <th>EdLevel</th>\n",
              "      <th>DevType</th>\n",
              "      <th>OrgSize</th>\n",
              "      <th>Country</th>\n",
              "      <th>ConvertedCompYearly</th>\n",
              "      <th>WorkExp</th>\n",
              "      <th>Industry</th>\n",
              "    </tr>\n",
              "  </thead>\n",
              "  <tbody>\n",
              "    <tr>\n",
              "      <th>0</th>\n",
              "      <td>None of these</td>\n",
              "      <td>18-24 years old</td>\n",
              "      <td>NaN</td>\n",
              "      <td>NaN</td>\n",
              "      <td>NaN</td>\n",
              "      <td>NaN</td>\n",
              "      <td>NaN</td>\n",
              "      <td>NaN</td>\n",
              "      <td>NaN</td>\n",
              "      <td>NaN</td>\n",
              "      <td>NaN</td>\n",
              "    </tr>\n",
              "    <tr>\n",
              "      <th>1</th>\n",
              "      <td>I am a developer by profession</td>\n",
              "      <td>25-34 years old</td>\n",
              "      <td>Employed, full-time</td>\n",
              "      <td>Remote</td>\n",
              "      <td>Bachelor’s degree (B.A., B.S., B.Eng., etc.)</td>\n",
              "      <td>Senior Executive (C-Suite, VP, etc.)</td>\n",
              "      <td>2 to 9 employees</td>\n",
              "      <td>United States of America</td>\n",
              "      <td>285000.0</td>\n",
              "      <td>10.0</td>\n",
              "      <td>Information Services, IT, Software Development...</td>\n",
              "    </tr>\n",
              "    <tr>\n",
              "      <th>2</th>\n",
              "      <td>I am a developer by profession</td>\n",
              "      <td>45-54 years old</td>\n",
              "      <td>Employed, full-time</td>\n",
              "      <td>Hybrid (some remote, some in-person)</td>\n",
              "      <td>Bachelor’s degree (B.A., B.S., B.Eng., etc.)</td>\n",
              "      <td>Developer, back-end</td>\n",
              "      <td>5,000 to 9,999 employees</td>\n",
              "      <td>United States of America</td>\n",
              "      <td>250000.0</td>\n",
              "      <td>23.0</td>\n",
              "      <td>Information Services, IT, Software Development...</td>\n",
              "    </tr>\n",
              "    <tr>\n",
              "      <th>3</th>\n",
              "      <td>I am a developer by profession</td>\n",
              "      <td>25-34 years old</td>\n",
              "      <td>Employed, full-time</td>\n",
              "      <td>Hybrid (some remote, some in-person)</td>\n",
              "      <td>Bachelor’s degree (B.A., B.S., B.Eng., etc.)</td>\n",
              "      <td>Developer, front-end</td>\n",
              "      <td>100 to 499 employees</td>\n",
              "      <td>United States of America</td>\n",
              "      <td>156000.0</td>\n",
              "      <td>7.0</td>\n",
              "      <td>NaN</td>\n",
              "    </tr>\n",
              "    <tr>\n",
              "      <th>4</th>\n",
              "      <td>I am a developer by profession</td>\n",
              "      <td>25-34 years old</td>\n",
              "      <td>Employed, full-time;Independent contractor, fr...</td>\n",
              "      <td>Remote</td>\n",
              "      <td>Bachelor’s degree (B.A., B.S., B.Eng., etc.)</td>\n",
              "      <td>Developer, full-stack</td>\n",
              "      <td>20 to 99 employees</td>\n",
              "      <td>Philippines</td>\n",
              "      <td>23456.0</td>\n",
              "      <td>6.0</td>\n",
              "      <td>Other</td>\n",
              "    </tr>\n",
              "  </tbody>\n",
              "</table>\n",
              "</div>\n",
              "    <div class=\"colab-df-buttons\">\n",
              "\n",
              "  <div class=\"colab-df-container\">\n",
              "    <button class=\"colab-df-convert\" onclick=\"convertToInteractive('df-d785e478-2ec5-4560-9c51-a02ead81377a')\"\n",
              "            title=\"Convert this dataframe to an interactive table.\"\n",
              "            style=\"display:none;\">\n",
              "\n",
              "  <svg xmlns=\"http://www.w3.org/2000/svg\" height=\"24px\" viewBox=\"0 -960 960 960\">\n",
              "    <path d=\"M120-120v-720h720v720H120Zm60-500h600v-160H180v160Zm220 220h160v-160H400v160Zm0 220h160v-160H400v160ZM180-400h160v-160H180v160Zm440 0h160v-160H620v160ZM180-180h160v-160H180v160Zm440 0h160v-160H620v160Z\"/>\n",
              "  </svg>\n",
              "    </button>\n",
              "\n",
              "  <style>\n",
              "    .colab-df-container {\n",
              "      display:flex;\n",
              "      gap: 12px;\n",
              "    }\n",
              "\n",
              "    .colab-df-convert {\n",
              "      background-color: #E8F0FE;\n",
              "      border: none;\n",
              "      border-radius: 50%;\n",
              "      cursor: pointer;\n",
              "      display: none;\n",
              "      fill: #1967D2;\n",
              "      height: 32px;\n",
              "      padding: 0 0 0 0;\n",
              "      width: 32px;\n",
              "    }\n",
              "\n",
              "    .colab-df-convert:hover {\n",
              "      background-color: #E2EBFA;\n",
              "      box-shadow: 0px 1px 2px rgba(60, 64, 67, 0.3), 0px 1px 3px 1px rgba(60, 64, 67, 0.15);\n",
              "      fill: #174EA6;\n",
              "    }\n",
              "\n",
              "    .colab-df-buttons div {\n",
              "      margin-bottom: 4px;\n",
              "    }\n",
              "\n",
              "    [theme=dark] .colab-df-convert {\n",
              "      background-color: #3B4455;\n",
              "      fill: #D2E3FC;\n",
              "    }\n",
              "\n",
              "    [theme=dark] .colab-df-convert:hover {\n",
              "      background-color: #434B5C;\n",
              "      box-shadow: 0px 1px 3px 1px rgba(0, 0, 0, 0.15);\n",
              "      filter: drop-shadow(0px 1px 2px rgba(0, 0, 0, 0.3));\n",
              "      fill: #FFFFFF;\n",
              "    }\n",
              "  </style>\n",
              "\n",
              "    <script>\n",
              "      const buttonEl =\n",
              "        document.querySelector('#df-d785e478-2ec5-4560-9c51-a02ead81377a button.colab-df-convert');\n",
              "      buttonEl.style.display =\n",
              "        google.colab.kernel.accessAllowed ? 'block' : 'none';\n",
              "\n",
              "      async function convertToInteractive(key) {\n",
              "        const element = document.querySelector('#df-d785e478-2ec5-4560-9c51-a02ead81377a');\n",
              "        const dataTable =\n",
              "          await google.colab.kernel.invokeFunction('convertToInteractive',\n",
              "                                                    [key], {});\n",
              "        if (!dataTable) return;\n",
              "\n",
              "        const docLinkHtml = 'Like what you see? Visit the ' +\n",
              "          '<a target=\"_blank\" href=https://colab.research.google.com/notebooks/data_table.ipynb>data table notebook</a>'\n",
              "          + ' to learn more about interactive tables.';\n",
              "        element.innerHTML = '';\n",
              "        dataTable['output_type'] = 'display_data';\n",
              "        await google.colab.output.renderOutput(dataTable, element);\n",
              "        const docLink = document.createElement('div');\n",
              "        docLink.innerHTML = docLinkHtml;\n",
              "        element.appendChild(docLink);\n",
              "      }\n",
              "    </script>\n",
              "  </div>\n",
              "\n",
              "\n",
              "<div id=\"df-b104344a-840f-4fa2-ae44-7e495991cc1a\">\n",
              "  <button class=\"colab-df-quickchart\" onclick=\"quickchart('df-b104344a-840f-4fa2-ae44-7e495991cc1a')\"\n",
              "            title=\"Suggest charts\"\n",
              "            style=\"display:none;\">\n",
              "\n",
              "<svg xmlns=\"http://www.w3.org/2000/svg\" height=\"24px\"viewBox=\"0 0 24 24\"\n",
              "     width=\"24px\">\n",
              "    <g>\n",
              "        <path d=\"M19 3H5c-1.1 0-2 .9-2 2v14c0 1.1.9 2 2 2h14c1.1 0 2-.9 2-2V5c0-1.1-.9-2-2-2zM9 17H7v-7h2v7zm4 0h-2V7h2v10zm4 0h-2v-4h2v4z\"/>\n",
              "    </g>\n",
              "</svg>\n",
              "  </button>\n",
              "\n",
              "<style>\n",
              "  .colab-df-quickchart {\n",
              "      --bg-color: #E8F0FE;\n",
              "      --fill-color: #1967D2;\n",
              "      --hover-bg-color: #E2EBFA;\n",
              "      --hover-fill-color: #174EA6;\n",
              "      --disabled-fill-color: #AAA;\n",
              "      --disabled-bg-color: #DDD;\n",
              "  }\n",
              "\n",
              "  [theme=dark] .colab-df-quickchart {\n",
              "      --bg-color: #3B4455;\n",
              "      --fill-color: #D2E3FC;\n",
              "      --hover-bg-color: #434B5C;\n",
              "      --hover-fill-color: #FFFFFF;\n",
              "      --disabled-bg-color: #3B4455;\n",
              "      --disabled-fill-color: #666;\n",
              "  }\n",
              "\n",
              "  .colab-df-quickchart {\n",
              "    background-color: var(--bg-color);\n",
              "    border: none;\n",
              "    border-radius: 50%;\n",
              "    cursor: pointer;\n",
              "    display: none;\n",
              "    fill: var(--fill-color);\n",
              "    height: 32px;\n",
              "    padding: 0;\n",
              "    width: 32px;\n",
              "  }\n",
              "\n",
              "  .colab-df-quickchart:hover {\n",
              "    background-color: var(--hover-bg-color);\n",
              "    box-shadow: 0 1px 2px rgba(60, 64, 67, 0.3), 0 1px 3px 1px rgba(60, 64, 67, 0.15);\n",
              "    fill: var(--button-hover-fill-color);\n",
              "  }\n",
              "\n",
              "  .colab-df-quickchart-complete:disabled,\n",
              "  .colab-df-quickchart-complete:disabled:hover {\n",
              "    background-color: var(--disabled-bg-color);\n",
              "    fill: var(--disabled-fill-color);\n",
              "    box-shadow: none;\n",
              "  }\n",
              "\n",
              "  .colab-df-spinner {\n",
              "    border: 2px solid var(--fill-color);\n",
              "    border-color: transparent;\n",
              "    border-bottom-color: var(--fill-color);\n",
              "    animation:\n",
              "      spin 1s steps(1) infinite;\n",
              "  }\n",
              "\n",
              "  @keyframes spin {\n",
              "    0% {\n",
              "      border-color: transparent;\n",
              "      border-bottom-color: var(--fill-color);\n",
              "      border-left-color: var(--fill-color);\n",
              "    }\n",
              "    20% {\n",
              "      border-color: transparent;\n",
              "      border-left-color: var(--fill-color);\n",
              "      border-top-color: var(--fill-color);\n",
              "    }\n",
              "    30% {\n",
              "      border-color: transparent;\n",
              "      border-left-color: var(--fill-color);\n",
              "      border-top-color: var(--fill-color);\n",
              "      border-right-color: var(--fill-color);\n",
              "    }\n",
              "    40% {\n",
              "      border-color: transparent;\n",
              "      border-right-color: var(--fill-color);\n",
              "      border-top-color: var(--fill-color);\n",
              "    }\n",
              "    60% {\n",
              "      border-color: transparent;\n",
              "      border-right-color: var(--fill-color);\n",
              "    }\n",
              "    80% {\n",
              "      border-color: transparent;\n",
              "      border-right-color: var(--fill-color);\n",
              "      border-bottom-color: var(--fill-color);\n",
              "    }\n",
              "    90% {\n",
              "      border-color: transparent;\n",
              "      border-bottom-color: var(--fill-color);\n",
              "    }\n",
              "  }\n",
              "</style>\n",
              "\n",
              "  <script>\n",
              "    async function quickchart(key) {\n",
              "      const quickchartButtonEl =\n",
              "        document.querySelector('#' + key + ' button');\n",
              "      quickchartButtonEl.disabled = true;  // To prevent multiple clicks.\n",
              "      quickchartButtonEl.classList.add('colab-df-spinner');\n",
              "      try {\n",
              "        const charts = await google.colab.kernel.invokeFunction(\n",
              "            'suggestCharts', [key], {});\n",
              "      } catch (error) {\n",
              "        console.error('Error during call to suggestCharts:', error);\n",
              "      }\n",
              "      quickchartButtonEl.classList.remove('colab-df-spinner');\n",
              "      quickchartButtonEl.classList.add('colab-df-quickchart-complete');\n",
              "    }\n",
              "    (() => {\n",
              "      let quickchartButtonEl =\n",
              "        document.querySelector('#df-b104344a-840f-4fa2-ae44-7e495991cc1a button');\n",
              "      quickchartButtonEl.style.display =\n",
              "        google.colab.kernel.accessAllowed ? 'block' : 'none';\n",
              "    })();\n",
              "  </script>\n",
              "</div>\n",
              "\n",
              "    </div>\n",
              "  </div>\n"
            ],
            "application/vnd.google.colaboratory.intrinsic+json": {
              "type": "dataframe",
              "summary": "{\n  \"name\": \"# Exibe as primeiras 5 linhas para visualizar os dados filtrados\",\n  \"rows\": 5,\n  \"fields\": [\n    {\n      \"column\": \"MainBranch\",\n      \"properties\": {\n        \"dtype\": \"category\",\n        \"num_unique_values\": 2,\n        \"samples\": [\n          \"I am a developer by profession\",\n          \"None of these\"\n        ],\n        \"semantic_type\": \"\",\n        \"description\": \"\"\n      }\n    },\n    {\n      \"column\": \"Age\",\n      \"properties\": {\n        \"dtype\": \"string\",\n        \"num_unique_values\": 3,\n        \"samples\": [\n          \"18-24 years old\",\n          \"25-34 years old\"\n        ],\n        \"semantic_type\": \"\",\n        \"description\": \"\"\n      }\n    },\n    {\n      \"column\": \"Employment\",\n      \"properties\": {\n        \"dtype\": \"category\",\n        \"num_unique_values\": 2,\n        \"samples\": [\n          \"Employed, full-time;Independent contractor, freelancer, or self-employed\",\n          \"Employed, full-time\"\n        ],\n        \"semantic_type\": \"\",\n        \"description\": \"\"\n      }\n    },\n    {\n      \"column\": \"RemoteWork\",\n      \"properties\": {\n        \"dtype\": \"category\",\n        \"num_unique_values\": 2,\n        \"samples\": [\n          \"Hybrid (some remote, some in-person)\",\n          \"Remote\"\n        ],\n        \"semantic_type\": \"\",\n        \"description\": \"\"\n      }\n    },\n    {\n      \"column\": \"EdLevel\",\n      \"properties\": {\n        \"dtype\": \"category\",\n        \"num_unique_values\": 1,\n        \"samples\": [\n          \"Bachelor\\u2019s degree (B.A., B.S., B.Eng., etc.)\"\n        ],\n        \"semantic_type\": \"\",\n        \"description\": \"\"\n      }\n    },\n    {\n      \"column\": \"DevType\",\n      \"properties\": {\n        \"dtype\": \"string\",\n        \"num_unique_values\": 4,\n        \"samples\": [\n          \"Developer, back-end\"\n        ],\n        \"semantic_type\": \"\",\n        \"description\": \"\"\n      }\n    },\n    {\n      \"column\": \"OrgSize\",\n      \"properties\": {\n        \"dtype\": \"string\",\n        \"num_unique_values\": 4,\n        \"samples\": [\n          \"5,000 to 9,999 employees\"\n        ],\n        \"semantic_type\": \"\",\n        \"description\": \"\"\n      }\n    },\n    {\n      \"column\": \"Country\",\n      \"properties\": {\n        \"dtype\": \"category\",\n        \"num_unique_values\": 2,\n        \"samples\": [\n          \"Philippines\"\n        ],\n        \"semantic_type\": \"\",\n        \"description\": \"\"\n      }\n    },\n    {\n      \"column\": \"ConvertedCompYearly\",\n      \"properties\": {\n        \"dtype\": \"number\",\n        \"std\": 116903.57843396696,\n        \"min\": 23456.0,\n        \"max\": 285000.0,\n        \"num_unique_values\": 4,\n        \"samples\": [\n          250000.0\n        ],\n        \"semantic_type\": \"\",\n        \"description\": \"\"\n      }\n    },\n    {\n      \"column\": \"WorkExp\",\n      \"properties\": {\n        \"dtype\": \"number\",\n        \"std\": 7.852812659593164,\n        \"min\": 6.0,\n        \"max\": 23.0,\n        \"num_unique_values\": 4,\n        \"samples\": [\n          23.0\n        ],\n        \"semantic_type\": \"\",\n        \"description\": \"\"\n      }\n    },\n    {\n      \"column\": \"Industry\",\n      \"properties\": {\n        \"dtype\": \"category\",\n        \"num_unique_values\": 2,\n        \"samples\": [\n          \"Other\"\n        ],\n        \"semantic_type\": \"\",\n        \"description\": \"\"\n      }\n    }\n  ]\n}"
            }
          },
          "metadata": {},
          "execution_count": 46
        }
      ],
      "source": [
        "#4 ---------------------------\n",
        "selected_columns = ['MainBranch', 'Age', 'Employment', 'RemoteWork',\n",
        "                    'EdLevel', 'DevType', 'OrgSize', 'Country',\n",
        "                    'ConvertedCompYearly', 'WorkExp', 'Industry']\n",
        "\n",
        "survey_new = survey[selected_columns]\n",
        "\n",
        "survey_new.head()\n",
        "\n",
        "# Seleciona um subconjunto de colunas relevantes para análise.\n",
        "# Cria um novo DataFrame 'survey_new' contendo apenas essas colunas.\n",
        "# Exibe as primeiras 5 linhas para visualizar os dados filtrados."
      ]
    },
    {
      "cell_type": "code",
      "execution_count": null,
      "metadata": {
        "metadata": {},
        "id": "sXp-UDfH1swN",
        "colab": {
          "base_uri": "https://localhost:8080/"
        },
        "outputId": "99cc9d93-4292-4104-e74a-f234758f1634"
      },
      "outputs": [
        {
          "output_type": "stream",
          "name": "stdout",
          "text": [
            "<class 'pandas.core.frame.DataFrame'>\n",
            "RangeIndex: 89184 entries, 0 to 89183\n",
            "Data columns (total 11 columns):\n",
            " #   Column               Non-Null Count  Dtype  \n",
            "---  ------               --------------  -----  \n",
            " 0   MainBranch           89184 non-null  object \n",
            " 1   Age                  89184 non-null  object \n",
            " 2   Employment           87898 non-null  object \n",
            " 3   RemoteWork           73810 non-null  object \n",
            " 4   EdLevel              87973 non-null  object \n",
            " 5   DevType              76872 non-null  object \n",
            " 6   OrgSize              65043 non-null  object \n",
            " 7   Country              87973 non-null  object \n",
            " 8   ConvertedCompYearly  48019 non-null  float64\n",
            " 9   WorkExp              43579 non-null  float64\n",
            " 10  Industry             36774 non-null  object \n",
            "dtypes: float64(2), object(9)\n",
            "memory usage: 7.5+ MB\n"
          ]
        }
      ],
      "source": [
        "#5 ---------------------------\n",
        "survey_new.info()\n",
        "\n",
        "# Exibe informações sobre o DataFrame:\n",
        "# 0 int\n",
        "# 2 float\n",
        "# 7.5 MB baseado no info"
      ]
    },
    {
      "cell_type": "code",
      "execution_count": null,
      "metadata": {
        "metadata": {},
        "id": "kNCx2swH1swN",
        "colab": {
          "base_uri": "https://localhost:8080/"
        },
        "outputId": "cbce2e70-3ebe-4480-d388-86f75443ad51"
      },
      "outputs": [
        {
          "output_type": "stream",
          "name": "stdout",
          "text": [
            "Média da experiência: 11.405126322311204\n",
            "Mediana da experiência: 9.0\n",
            "Desvio-padrão da experiência: 9.051989418487764\n",
            "Máximo da experiência: 50.0\n",
            "Mínimo da experiência: 0.0\n"
          ]
        }
      ],
      "source": [
        "#6 ---------------------------\n",
        "mean_workexp = survey['WorkExp'].mean()\n",
        "median_workexp = survey['WorkExp'].median()\n",
        "std_workexp = survey['WorkExp'].std()\n",
        "max_workexp = survey['WorkExp'].max()\n",
        "min_workexp = survey['WorkExp'].min()\n",
        "\n",
        "print(f\"Média da experiência: {mean_workexp}\")\n",
        "print(f\"Mediana da experiência: {median_workexp}\")\n",
        "print(f\"Desvio-padrão da experiência: {std_workexp}\")\n",
        "print(f\"Máximo da experiência: {max_workexp}\")\n",
        "print(f\"Mínimo da experiência: {min_workexp}\")\n",
        "\n",
        "# Calcula e exibe as estatísticas descritivas para a coluna 'WorkExp':\n",
        "\n",
        "# - Média da experiência: 11.41\n",
        "# - Mediana da experiência: 9.00\n",
        "# - Desvio-padrão da experiência: 9.05\n",
        "# - Valor máximo da experiência: 50:00\n",
        "# - Valor mínimo da experiência: 0:00\n"
      ]
    },
    {
      "cell_type": "code",
      "execution_count": null,
      "metadata": {
        "metadata": {},
        "id": "6t6hOQqa1swN",
        "colab": {
          "base_uri": "https://localhost:8080/"
        },
        "outputId": "fbdb33a0-1672-4ec2-86ac-049e48b7e6e8"
      },
      "outputs": [
        {
          "output_type": "stream",
          "name": "stdout",
          "text": [
            "Limite inferior: 0.00\n",
            "Limite superior: 32.50\n"
          ]
        }
      ],
      "source": [
        "#7 ---------------------------\n",
        "Q25 = survey_new['WorkExp'].quantile(0.25)\n",
        "Q75 = survey_new['WorkExp'].quantile(0.75)\n",
        "\n",
        "IQR = Q75 - Q25\n",
        "\n",
        "limite_inferior = Q25 - 1.5 * IQR\n",
        "limite_superior = Q75 + 1.5 * IQR\n",
        "\n",
        "limite_inferior = max(limite_inferior, 0)\n",
        "\n",
        "print(f\"Limite inferior: {limite_inferior:.2f}\")\n",
        "print(f\"Limite superior: {limite_superior:.2f}\")\n",
        "\n",
        "# Os outliers de experiência de trabalho são aqueles valores fora do intervalo definido pelos limites:\n",
        "\n",
        "# Limite inferior: 0.00 anos\n",
        "\n",
        "# Limite superior: 32.50 anos\n",
        "\n",
        "# Portanto, qualquer valor abaixo de 0.00 anos ou acima de 32.50 anos será considerado um outlier."
      ]
    },
    {
      "cell_type": "code",
      "execution_count": null,
      "metadata": {
        "metadata": {},
        "id": "OMSo0GMO1swN",
        "colab": {
          "base_uri": "https://localhost:8080/"
        },
        "outputId": "f5afa35a-d082-4681-eaaa-c8baf602b37c"
      },
      "outputs": [
        {
          "output_type": "stream",
          "name": "stdout",
          "text": [
            "A quantidade de observações consideradas outliers: 1463\n"
          ]
        }
      ],
      "source": [
        "#8 ---------------------------\n",
        "Q25 = survey_new['WorkExp'].quantile(0.25)\n",
        "Q75 = survey_new['WorkExp'].quantile(0.75)\n",
        "\n",
        "IQR = Q75 - Q25\n",
        "\n",
        "limite_inferior = Q25 - 1.5 * IQR\n",
        "limite_superior = Q75 + 1.5 * IQR\n",
        "\n",
        "limite_inferior = max(limite_inferior, 0)\n",
        "\n",
        "outliers = survey_new[(survey_new['WorkExp'] > limite_superior) | (survey_new['WorkExp'] < limite_inferior)]\n",
        "\n",
        "print(f\"A quantidade de observações consideradas outliers: {outliers.shape[0]}\")\n",
        "\n",
        "# A saída indica que 1463 observações foram identificadas como outliers com base nos limites de experiência de trabalho. Esses valores estão fora do intervalo considerado normal para os dados.\n"
      ]
    },
    {
      "cell_type": "code",
      "execution_count": null,
      "metadata": {
        "metadata": {},
        "id": "LjD7Fpmw1swO",
        "colab": {
          "base_uri": "https://localhost:8080/"
        },
        "outputId": "d9077fbf-e425-42bc-9286-5d4aa394675b"
      },
      "outputs": [
        {
          "output_type": "stream",
          "name": "stdout",
          "text": [
            "Desenvolvedores profissionais: 75.39%\n",
            "Aprendizes de programação: 5.56%\n"
          ]
        }
      ],
      "source": [
        "#9 ---------------------------\n",
        "total_devs = len(survey_new)\n",
        "\n",
        "profissionais = survey_new['MainBranch'].eq('I am a developer by profession').sum()\n",
        "aprendizes = survey_new['MainBranch'].eq('I am learning to code').sum()\n",
        "\n",
        "perc_profissionais = (profissionais / total_devs) * 100\n",
        "perc_aprendizes = (aprendizes / total_devs) * 100\n",
        "\n",
        "print(f\"Desenvolvedores profissionais: {perc_profissionais:.2f}%\")\n",
        "print(f\"Aprendizes de programação: {perc_aprendizes:.2f}%\")\n",
        "\n",
        "# Com base nos dados do MainBranch:\n",
        "\n",
        "# 75.39% dos respondentes são desenvolvedores profissionais.\n",
        "\n",
        "# 5.56% estão aprendendo a programar.\n"
      ]
    },
    {
      "cell_type": "code",
      "execution_count": null,
      "metadata": {
        "metadata": {},
        "id": "_KaKTAm21swO",
        "colab": {
          "base_uri": "https://localhost:8080/"
        },
        "outputId": "39204d11-d7f9-479f-fd30-731c4ca06b27"
      },
      "outputs": [
        {
          "output_type": "stream",
          "name": "stdout",
          "text": [
            "MainBranch\n",
            "I used to be a developer by profession, but no longer am                                 17.458333\n",
            "I am not primarily a developer, but I write code sometimes as part of my work/studies    13.509826\n",
            "I am a developer by profession                                                           11.204088\n",
            "I code primarily as a hobby                                                              11.000000\n",
            "I am learning to code                                                                     7.097902\n",
            "None of these                                                                                  NaN\n",
            "Name: WorkExp, dtype: float64\n",
            "MainBranch\n",
            "I used to be a developer by profession, but no longer am                                 17.0\n",
            "I am not primarily a developer, but I write code sometimes as part of my work/studies    11.0\n",
            "I am a developer by profession                                                            9.0\n",
            "I code primarily as a hobby                                                               8.0\n",
            "I am learning to code                                                                     3.0\n",
            "None of these                                                                             NaN\n",
            "Name: WorkExp, dtype: float64\n"
          ]
        }
      ],
      "source": [
        "#10 ---------------------------\n",
        "print(survey_new.groupby('MainBranch')['WorkExp'].mean().sort_values(ascending=False))\n",
        "print(survey_new.groupby('MainBranch')['WorkExp'].median().sort_values(ascending=False))\n",
        "\n",
        "# Médias de Experiência de Trabalho:\n",
        "\n",
        "# I used to be a developer by profession, but no longer am: 17.46 anos\n",
        "# I am not primarily a developer, but I write code sometimes as part of my work/studies: 13.51 anos\n",
        "# I am a developer by profession: 11.20 anos\n",
        "# I code primarily as a hobby: 11.00 anos\n",
        "# I am learning to code: 7.10 anos\n",
        "# None of these: NaN (não disponível)\n",
        "\n",
        "# Medianas de Experiência de Trabalho:\n",
        "\n",
        "# I used to be a developer by profession, but no longer am: 17 anos\n",
        "# I am not primarily a developer, but I write code sometimes as part of my work/studies: 11 anos\n",
        "# I am a developer by profession: 9 anos\n",
        "# I code primarily as a hobby: 8 anos\n",
        "# I am learning to code: 3 anos\n",
        "# None of these: NaN (não disponível)"
      ]
    },
    {
      "cell_type": "code",
      "execution_count": null,
      "metadata": {
        "metadata": {},
        "id": "vmkiI3O91swO",
        "colab": {
          "base_uri": "https://localhost:8080/"
        },
        "outputId": "673d7cf6-fefb-486b-fc4f-29b4be62b064"
      },
      "outputs": [
        {
          "output_type": "stream",
          "name": "stdout",
          "text": [
            "185\n"
          ]
        }
      ],
      "source": [
        "#11 ---------------------------\n",
        "print(survey_new['Country'].nunique())\n",
        "\n",
        "# Os dados incluem informações de 185 países diferentes."
      ]
    },
    {
      "cell_type": "code",
      "execution_count": null,
      "metadata": {
        "metadata": {},
        "id": "ZPECsv_a1swO",
        "colab": {
          "base_uri": "https://localhost:8080/"
        },
        "outputId": "bf20c19c-a282-497d-acee-9386175a5a2b"
      },
      "outputs": [
        {
          "output_type": "stream",
          "name": "stdout",
          "text": [
            "Número de observações: 14285\n",
            "                           mean                 std\n",
            "            ConvertedCompYearly ConvertedCompYearly\n",
            "Country                                            \n",
            "France             65101.007773        37705.684755\n",
            "Germany            82457.479093        52130.592088\n",
            "Netherlands        85128.483847        59455.492620\n",
            "Sweden             65003.224432        45948.621230\n"
          ]
        }
      ],
      "source": [
        "#12 ---------------------------\n",
        "selected_countries = survey_new[(survey_new['Country'] == 'Germany') | (survey_new['Country'] == 'Sweden') | (survey_new['Country'] == 'France') | (survey_new['Country'] == 'Netherlands')]\n",
        "\n",
        "survey_country = pd.DataFrame(selected_countries)\n",
        "\n",
        "num_records = survey_country.shape[0]\n",
        "\n",
        "pivot_calculation = survey_country.pivot_table(values='ConvertedCompYearly', index=['Country'], aggfunc=['mean', 'std'])\n",
        "\n",
        "print(f\"Número de observações: {num_records}\")\n",
        "print(pivot_calculation)\n",
        "\n",
        "# Foram registradas 14,285 observações.\n",
        "# Netherlands apresenta a maior média salarial: 85,128.48 e o maior desvio padrão: 59,455.49."
      ]
    },
    {
      "cell_type": "code",
      "execution_count": null,
      "metadata": {
        "metadata": {},
        "id": "00tM5FTP1swP",
        "colab": {
          "base_uri": "https://localhost:8080/"
        },
        "outputId": "486fb097-7363-4edc-a0cd-a660c8f28f2f"
      },
      "outputs": [
        {
          "output_type": "stream",
          "name": "stdout",
          "text": [
            "Porcentagem de desenvolvedores nos países selecionados: 77.67%\n",
            "Porcentagem de aprendizes nos países selecionados: 3.28%\n",
            "Porcentagem de desenvolvedores no dataframe original: 75.39%\n",
            "Porcentagem de aprendizes no dataframe original: 5.56%\n",
            "Há mais desenvolvedores profissionais no dataframe original 'survey_new'.\n"
          ]
        }
      ],
      "source": [
        "#13 ---------------------------\n",
        "total_country = survey_country['MainBranch'].shape[0]\n",
        "dev_country = survey_country[survey_country['MainBranch'] == 'I am a developer by profession'].shape[0]\n",
        "iniciante_country = survey_country[survey_country['MainBranch'] == 'I am learning to code'].shape[0]\n",
        "\n",
        "porcentagem_dev = (dev_country / total_country) * 100\n",
        "porcentagem_iniciante = (iniciante_country / total_country) * 100\n",
        "\n",
        "total_new = survey_new['MainBranch'].shape[0]\n",
        "dev_new = survey_new[survey_new['MainBranch'] == 'I am a developer by profession'].shape[0]\n",
        "iniciante_new = survey_new[survey_new['MainBranch'] == 'I am learning to code'].shape[0]\n",
        "\n",
        "por_profissao = (dev_new / total_new) * 100\n",
        "por_iniciante = (iniciante_new / total_new) * 100\n",
        "\n",
        "print(f\"Porcentagem de desenvolvedores nos países selecionados: {porcentagem_dev:.2f}%\")\n",
        "print(f\"Porcentagem de aprendizes nos países selecionados: {porcentagem_iniciante:.2f}%\")\n",
        "print(f\"Porcentagem de desenvolvedores no dataframe original: {por_profissao:.2f}%\")\n",
        "print(f\"Porcentagem de aprendizes no dataframe original: {por_iniciante:.2f}%\")\n",
        "\n",
        "if dev_new > dev_country:\n",
        "    print(\"Há mais desenvolvedores profissionais no dataframe original 'survey_new'.\")\n",
        "else:\n",
        "    print(\"Há mais desenvolvedores profissionais nos países selecionados no dataframe 'survey_country'.\")\n",
        "\n",
        "# A porcentagem de desenvolvedores profissionais é maior no survey_country.\n",
        "# Por outro lado, a porcentagem de aprendizes com intenção de se tornar desenvolvedores é maior no survey_new."
      ]
    },
    {
      "cell_type": "code",
      "execution_count": null,
      "metadata": {
        "metadata": {},
        "id": "Ct5_fale1swP",
        "colab": {
          "base_uri": "https://localhost:8080/"
        },
        "outputId": "5da36e76-a348-4587-e33f-6ae9f6b2cb59"
      },
      "outputs": [
        {
          "output_type": "stream",
          "name": "stdout",
          "text": [
            "Country      Industry          \n",
            "France       Financial Services     98275.422535\n",
            "             Insurance              58325.500000\n",
            "Germany      Financial Services     91857.378205\n",
            "             Insurance              75314.130435\n",
            "Netherlands  Financial Services    100696.184211\n",
            "             Insurance              66016.818182\n",
            "Sweden       Financial Services     72295.949367\n",
            "             Insurance              66510.833333\n",
            "Name: ConvertedCompYearly, dtype: float64\n"
          ]
        }
      ],
      "source": [
        "#14 ---------------------------\n",
        "survey_country_ind = survey_country[survey_country['Industry'].isin(['Information Services', 'IT', 'Software Development', 'Technology', 'Financial Services', 'Insurance'])]\n",
        "\n",
        "remuneracao_media = survey_country_ind.groupby(['Country', 'Industry'])['ConvertedCompYearly'].mean()\n",
        "\n",
        "print(remuneracao_media)\n",
        "\n",
        "#A maior média salarial é na indústria 'Financial Services' no país 'Netherlands', com um valor de 100696.18.\n",
        "#A menor média salarial é na indústria 'Insurance' no país 'France', com um valor de 58325.50."
      ]
    },
    {
      "cell_type": "code",
      "execution_count": null,
      "metadata": {
        "metadata": {},
        "id": "aujQEboZ1swP",
        "colab": {
          "base_uri": "https://localhost:8080/"
        },
        "outputId": "4859254c-134a-446b-e3ef-f3a7cd67e148"
      },
      "outputs": [
        {
          "output_type": "stream",
          "name": "stdout",
          "text": [
            "Industry\n",
            "Financial Services    12.024390\n",
            "Insurance             11.188889\n",
            "Name: WorkExp, dtype: float64\n"
          ]
        }
      ],
      "source": [
        "#15 ---------------------------\n",
        "experiencia_ind = survey_country_ind.groupby('Industry')['WorkExp'].mean()\n",
        "\n",
        "print(experiencia_ind)\n",
        "\n",
        "# A indústria com mais experiência é: Financial Services, com uma média de 12.02 anos.\n",
        "# A indústria com menos experiência é: Insurance, com uma média de 11.19 anos."
      ]
    },
    {
      "cell_type": "code",
      "execution_count": null,
      "metadata": {
        "metadata": {},
        "id": "CrMQA1Ca1swP",
        "colab": {
          "base_uri": "https://localhost:8080/",
          "height": 449
        },
        "outputId": "20d91e7b-02d8-4dca-a922-27c382efd360"
      },
      "outputs": [
        {
          "output_type": "display_data",
          "data": {
            "text/plain": [
              "<Figure size 640x480 with 1 Axes>"
            ],
            "image/png": "[encoded data removed]"
          },
          "metadata": {}
        }
      ],
      "source": [
        "#16 ---------------------------\n",
        "sns.histplot(data=survey_country_ind, x='ConvertedCompYearly', color='blue', bins=30, kde=True)\n",
        "\n",
        "sns.reset_orig()\n",
        "\n",
        "plt.show()\n",
        "\n",
        "#Gráfico de histograma (histplot) mostra a distribuição dos salários anuais, destacando a frequência de diferentes faixas salariais."
      ]
    },
    {
      "cell_type": "code",
      "execution_count": null,
      "metadata": {
        "metadata": {},
        "id": "kIF4CMJh1swP",
        "colab": {
          "base_uri": "https://localhost:8080/",
          "height": 574
        },
        "outputId": "957bd193-7240-459c-99fe-5f6fe28ced32"
      },
      "outputs": [
        {
          "output_type": "display_data",
          "data": {
            "text/plain": [
              "<Figure size 640x480 with 1 Axes>"
            ],
            "image/png": "[encoded data removed]"
          },
          "metadata": {}
        }
      ],
      "source": [
        "#17 ---------------------------\n",
        "sns.scatterplot(data=survey_country_ind, x='Industry', y='ConvertedCompYearly', hue='Country')\n",
        "\n",
        "plt.xticks(rotation = 90)\n",
        "\n",
        "plt.ylim(-10000, 1500000)\n",
        "\n",
        "plt.show()\n",
        "\n",
        "#Gráfico de dispersão (scatterplot) mostra a relação entre a indústria e o salário anual convertido, destacando a distribuição dos salários por setor."
      ]
    },
    {
      "cell_type": "code",
      "execution_count": null,
      "metadata": {
        "metadata": {},
        "id": "podm7Qq01swP",
        "colab": {
          "base_uri": "https://localhost:8080/",
          "height": 574
        },
        "outputId": "497f09d7-faab-4a02-85e3-c42c8fe53ac4"
      },
      "outputs": [
        {
          "output_type": "display_data",
          "data": {
            "text/plain": [
              "<Figure size 640x480 with 1 Axes>"
            ],
            "image/png": "[encoded data removed]"
          },
          "metadata": {}
        }
      ],
      "source": [
        "#18 ---------------------------\n",
        "sns.violinplot(data=survey_country_ind, y='ConvertedCompYearly', x='Industry', hue='Industry')\n",
        "\n",
        "plt.xticks(rotation = 90)\n",
        "\n",
        "plt.ylim(-10000, 1500000)\n",
        "\n",
        "plt.show()\n",
        "\n",
        "#Gráfico de violino (violinplot) exibe a distribuição salarial por indústria, mostrando a variação e a densidade dos salários dentro de cada setor."
      ]
    },
    {
      "cell_type": "code",
      "execution_count": null,
      "metadata": {
        "metadata": {},
        "id": "Qi13pUOu1swP",
        "colab": {
          "base_uri": "https://localhost:8080/",
          "height": 593
        },
        "outputId": "4e8d42ad-2a27-4a52-f621-35738d9d5187"
      },
      "outputs": [
        {
          "output_type": "display_data",
          "data": {
            "text/plain": [
              "<Figure size 640x480 with 1 Axes>"
            ],
            "image/png": "[encoded data removed]"
          },
          "metadata": {}
        }
      ],
      "source": [
        "#19 ---------------------------\n",
        "sns.countplot(data=survey_country_ind, x='Age')\n",
        "plt.title('Distribuição de Idade dos Profissionais da Área de Dados')\n",
        "\n",
        "plt.xticks(rotation=90)\n",
        "\n",
        "plt.show()\n",
        "\n",
        "#Gráfico de contagem (countplot) exibe a distribuição de indivíduos na faixa etária de 25 a 34 anos, mostrando a quantidade de pessoas em cada categoria analisada.\n"
      ]
    },
    {
      "cell_type": "code",
      "execution_count": null,
      "metadata": {
        "metadata": {},
        "id": "HH32pEHN1swP",
        "colab": {
          "base_uri": "https://localhost:8080/",
          "height": 704
        },
        "outputId": "35417442-e397-4331-da94-34c9006f857c"
      },
      "outputs": [
        {
          "output_type": "display_data",
          "data": {
            "text/plain": [
              "<Figure size 640x480 with 1 Axes>"
            ],
            "image/png": "[encoded data removed]"
          },
          "metadata": {}
        }
      ],
      "source": [
        "#20 ---------------------------\n",
        "sns.boxplot(data=survey_country_ind, y='WorkExp', x='RemoteWork', hue='RemoteWork')\n",
        "\n",
        "plt.xticks(rotation=90)\n",
        "\n",
        "plt.show()\n",
        "\n",
        "#Gráfico de caixa (boxplot) mostra a relação entre a experiência de trabalho e a modalidade remota, destacando as diferenças entre quem trabalha de casa e quem não trabalha remotamente."
      ]
    }
  ],
  "metadata": {
    "kernelspec": {
      "display_name": "Python 3",
      "language": "python",
      "name": "python3"
    },
    "language_info": {
      "codemirror_mode": {
        "name": "ipython",
        "version": 3
      },
      "file_extension": ".py",
      "mimetype": "text/x-python",
      "name": "python",
      "nbconvert_exporter": "python",
      "pygments_lexer": "ipython3",
      "version": "3.12.2"
    },
    "colab": {
      "provenance": [],
      "include_colab_link": true
    }
  },
  "nbformat": 4,
  "nbformat_minor": 0
}