{
  "cells": [
    {
      "cell_type": "markdown",
      "metadata": {
        "id": "view-in-github",
        "colab_type": "text"
      },
      "source": [
        "<a href=\"https://colab.research.google.com/github/pedrosantos-code/Exercicio/blob/main/CP1_Entrega.ipynb\" target=\"_parent\"><img src=\"https://colab.research.google.com/assets/colab-badge.svg\" alt=\"Open In Colab\"/></a>"
      ]
    },
    {
      "cell_type": "code",
      "execution_count": null,
      "metadata": {
        "id": "JQUxgeam1swK"
      },
      "outputs": [],
      "source": [
        "# NOME DO ALUNO: Pedro Pereira dos Santos\n",
        "# MATRÍCULA: RM552047"
      ]
    },
    {
      "cell_type": "code",
      "execution_count": null,
      "metadata": {
        "metadata": {},
        "id": "Y_eO0m611swM"
      },
      "outputs": [],
      "source": [
        "#20 ---------------------------\n",
        "import pandas as pd\n",
        "import numpy as np\n",
        "import matplotlib.pyplot as plt\n",
        "import seaborn as sns\n",
        "\n",
        "# Importação das principais bibliotecas para manipulação, análise e visualização de dados."
      ]
    },
    {
      "cell_type": "code",
      "execution_count": 8,
      "metadata": {
        "metadata": {},
        "id": "6k0UVY--1swM",
        "colab": {
          "base_uri": "https://localhost:8080/"
        },
        "outputId": "46a69cc3-4dfb-47e3-bf42-7137bbfb88b3"
      },
      "outputs": [
        {
          "output_type": "execute_result",
          "data": {
            "text/plain": [
              "84"
            ]
          },
          "metadata": {},
          "execution_count": 8
        }
      ],
      "source": [
        "#2 ---------------------------\n",
        "survey = pd.read_csv('/content/CP1 Stack Overflow.csv')\n",
        "len(survey.columns)\n",
        "\n",
        "# Carrega o arquivo CSV em um DataFrame e exibe a quantidade de colunas presentes."
      ]
    },
    {
      "cell_type": "code",
      "execution_count": 9,
      "metadata": {
        "metadata": {},
        "id": "nTZJsz2B1swM",
        "colab": {
          "base_uri": "https://localhost:8080/"
        },
        "outputId": "b7b1beff-e2ba-4c81-f041-83ffc0a83fb2"
      },
      "outputs": [
        {
          "output_type": "stream",
          "name": "stdout",
          "text": [
            "<class 'pandas.core.frame.DataFrame'>\n",
            "RangeIndex: 89184 entries, 0 to 89183\n",
            "Data columns (total 84 columns):\n",
            " #   Column                               Non-Null Count  Dtype  \n",
            "---  ------                               --------------  -----  \n",
            " 0   ResponseId                           89184 non-null  int64  \n",
            " 1   Q120                                 89184 non-null  object \n",
            " 2   MainBranch                           89184 non-null  object \n",
            " 3   Age                                  89184 non-null  object \n",
            " 4   Employment                           87898 non-null  object \n",
            " 5   RemoteWork                           73810 non-null  object \n",
            " 6   CodingActivities                     73764 non-null  object \n",
            " 7   EdLevel                              87973 non-null  object \n",
            " 8   LearnCode                            87663 non-null  object \n",
            " 9   LearnCodeOnline                      70084 non-null  object \n",
            " 10  LearnCodeCoursesCert                 37076 non-null  object \n",
            " 11  YearsCode                            87435 non-null  object \n",
            " 12  YearsCodePro                         66136 non-null  object \n",
            " 13  DevType                              76872 non-null  object \n",
            " 14  OrgSize                              65043 non-null  object \n",
            " 15  PurchaseInfluence                    64964 non-null  object \n",
            " 16  TechList                             60851 non-null  object \n",
            " 17  BuyNewTool                           83009 non-null  object \n",
            " 18  Country                              87973 non-null  object \n",
            " 19  Currency                             65334 non-null  object \n",
            " 20  CompTotal                            48225 non-null  float64\n",
            " 21  LanguageHaveWorkedWith               87140 non-null  object \n",
            " 22  LanguageWantToWorkWith               80709 non-null  object \n",
            " 23  DatabaseHaveWorkedWith               73435 non-null  object \n",
            " 24  DatabaseWantToWorkWith               60911 non-null  object \n",
            " 25  PlatformHaveWorkedWith               63628 non-null  object \n",
            " 26  PlatformWantToWorkWith               51308 non-null  object \n",
            " 27  WebframeHaveWorkedWith               66938 non-null  object \n",
            " 28  WebframeWantToWorkWith               56741 non-null  object \n",
            " 29  MiscTechHaveWorkedWith               57019 non-null  object \n",
            " 30  MiscTechWantToWorkWith               46848 non-null  object \n",
            " 31  ToolsTechHaveWorkedWith              77884 non-null  object \n",
            " 32  ToolsTechWantToWorkWith              68315 non-null  object \n",
            " 33  NEWCollabToolsHaveWorkedWith         85864 non-null  object \n",
            " 34  NEWCollabToolsWantToWorkWith         76649 non-null  object \n",
            " 35  OpSysPersonal use                    86557 non-null  object \n",
            " 36  OpSysProfessional use                78587 non-null  object \n",
            " 37  OfficeStackAsyncHaveWorkedWith       69090 non-null  object \n",
            " 38  OfficeStackAsyncWantToWorkWith       53743 non-null  object \n",
            " 39  OfficeStackSyncHaveWorkedWith        83439 non-null  object \n",
            " 40  OfficeStackSyncWantToWorkWith        69776 non-null  object \n",
            " 41  AISearchHaveWorkedWith               56328 non-null  object \n",
            " 42  AISearchWantToWorkWith               46150 non-null  object \n",
            " 43  AIDevHaveWorkedWith                  25904 non-null  object \n",
            " 44  AIDevWantToWorkWith                  19587 non-null  object \n",
            " 45  NEWSOSites                           87973 non-null  object \n",
            " 46  SOVisitFreq                          87140 non-null  object \n",
            " 47  SOAccount                            87852 non-null  object \n",
            " 48  SOPartFreq                           66061 non-null  object \n",
            " 49  SOComm                               87692 non-null  object \n",
            " 50  SOAI                                 47858 non-null  object \n",
            " 51  AISelect                             87973 non-null  object \n",
            " 52  AISent                               61501 non-null  object \n",
            " 53  AIAcc                                38594 non-null  object \n",
            " 54  AIBen                                61396 non-null  object \n",
            " 55  AIToolInterested in Using            32783 non-null  object \n",
            " 56  AIToolCurrently Using                36137 non-null  object \n",
            " 57  AIToolNot interested in Using        21069 non-null  object \n",
            " 58  AINextVery different                 12661 non-null  object \n",
            " 59  AINextNeither different nor similar  6599 non-null   object \n",
            " 60  AINextSomewhat similar               6238 non-null   object \n",
            " 61  AINextVery similar                   2621 non-null   object \n",
            " 62  AINextSomewhat different             23303 non-null  object \n",
            " 63  TBranch                              65768 non-null  object \n",
            " 64  ICorPM                               43668 non-null  object \n",
            " 65  WorkExp                              43579 non-null  float64\n",
            " 66  Knowledge_1                          42535 non-null  object \n",
            " 67  Knowledge_2                          41670 non-null  object \n",
            " 68  Knowledge_3                          41798 non-null  object \n",
            " 69  Knowledge_4                          41684 non-null  object \n",
            " 70  Knowledge_5                          41527 non-null  object \n",
            " 71  Knowledge_6                          41520 non-null  object \n",
            " 72  Knowledge_7                          41467 non-null  object \n",
            " 73  Knowledge_8                          41404 non-null  object \n",
            " 74  Frequency_1                          41916 non-null  object \n",
            " 75  Frequency_2                          41925 non-null  object \n",
            " 76  Frequency_3                          41054 non-null  object \n",
            " 77  TimeSearching                        42778 non-null  object \n",
            " 78  TimeAnswering                        42629 non-null  object \n",
            " 79  ProfessionalTech                     41783 non-null  object \n",
            " 80  Industry                             36774 non-null  object \n",
            " 81  SurveyLength                         86485 non-null  object \n",
            " 82  SurveyEase                           86554 non-null  object \n",
            " 83  ConvertedCompYearly                  48019 non-null  float64\n",
            "dtypes: float64(3), int64(1), object(80)\n",
            "memory usage: 57.2+ MB\n"
          ]
        }
      ],
      "source": [
        "#3 ---------------------------\n",
        "survey.info()\n",
        "\n",
        "# Exibe informações sobre o DataFrame:\n",
        "# - 84 colunas no total.\n",
        "# - 1 coluna com tipo inteiro (int64).\n",
        "# - 3 colunas com tipo flutuante (float64).\n",
        "# - Uso de memória: 57.2 MB."
      ]
    },
    {
      "cell_type": "code",
      "execution_count": null,
      "metadata": {
        "metadata": {},
        "id": "sIXM8Yyr1swM"
      },
      "outputs": [],
      "source": [
        "#4 ---------------------------\n",
        "selected_columns = ['MainBranch', 'Age', 'Employment', 'RemoteWork',\n",
        "                    'EdLevel', 'DevType', 'OrgSize', 'Country',\n",
        "                    'ConvertedCompYearly', 'WorkExp', 'Industry']\n",
        "\n",
        "survey_new = survey[selected_columns]\n",
        "\n",
        "survey_new.head()\n",
        "\n",
        "# Seleciona um subconjunto de colunas relevantes para análise.\n",
        "# Cria um novo DataFrame 'survey_new' contendo apenas essas colunas.\n",
        "# Exibe as primeiras 5 linhas para visualizar os dados filtrados."
      ]
    },
    {
      "cell_type": "code",
      "execution_count": null,
      "metadata": {
        "metadata": {},
        "id": "sXp-UDfH1swN"
      },
      "outputs": [],
      "source": [
        "#5 ---------------------------\n",
        "survey_new.info()\n",
        "\n",
        "# Exibe informações sobre o DataFrame:\n",
        "# 0 int\n",
        "# 2 float\n",
        "# 7.5 MB baseado no info"
      ]
    },
    {
      "cell_type": "code",
      "execution_count": null,
      "metadata": {
        "metadata": {},
        "id": "kNCx2swH1swN"
      },
      "outputs": [],
      "source": [
        "#6 ---------------------------\n",
        "mean_workexp = survey['WorkExp'].mean()\n",
        "median_workexp = survey['WorkExp'].median()\n",
        "std_workexp = survey['WorkExp'].std()\n",
        "max_workexp = survey['WorkExp'].max()\n",
        "min_workexp = survey['WorkExp'].min()\n",
        "\n",
        "print(f\"Média da experiência: {mean_workexp}\")\n",
        "print(f\"Mediana da experiência: {median_workexp}\")\n",
        "print(f\"Desvio-padrão da experiência: {std_workexp}\")\n",
        "print(f\"Máximo da experiência: {max_workexp}\")\n",
        "print(f\"Mínimo da experiência: {min_workexp}\")\n",
        "\n",
        "# Calcula e exibe as estatísticas descritivas para a coluna 'WorkExp':\n",
        "\n",
        "# - Média da experiência: 11.41\n",
        "# - Mediana da experiência: 9.00\n",
        "# - Desvio-padrão da experiência: 9.05\n",
        "# - Valor máximo da experiência: 50:00\n",
        "# - Valor mínimo da experiência: 0:00\n"
      ]
    },
    {
      "cell_type": "code",
      "execution_count": null,
      "metadata": {
        "metadata": {},
        "id": "6t6hOQqa1swN"
      },
      "outputs": [],
      "source": [
        "#7 ---------------------------\n",
        "Q25 = survey_new['WorkExp'].quantile(0.25)\n",
        "Q75 = survey_new['WorkExp'].quantile(0.75)\n",
        "\n",
        "IQR = Q75 - Q25\n",
        "\n",
        "limite_inferior = Q25 - 1.5 * IQR\n",
        "limite_superior = Q75 + 1.5 * IQR\n",
        "\n",
        "limite_inferior = max(limite_inferior, 0)\n",
        "\n",
        "print(f\"Limite inferior: {limite_inferior:.2f}\")\n",
        "print(f\"Limite superior: {limite_superior:.2f}\")\n",
        "\n",
        "# Os outliers de experiência de trabalho são aqueles valores fora do intervalo definido pelos limites:\n",
        "\n",
        "# Limite inferior: 0.00 anos\n",
        "\n",
        "# Limite superior: 32.50 anos\n",
        "\n",
        "# Portanto, qualquer valor abaixo de 0.00 anos ou acima de 32.50 anos será considerado um outlier."
      ]
    },
    {
      "cell_type": "code",
      "execution_count": null,
      "metadata": {
        "metadata": {},
        "id": "OMSo0GMO1swN"
      },
      "outputs": [],
      "source": [
        "#8 ---------------------------\n",
        "Q25 = survey_new['WorkExp'].quantile(0.25)\n",
        "Q75 = survey_new['WorkExp'].quantile(0.75)\n",
        "\n",
        "IQR = Q75 - Q25\n",
        "\n",
        "limite_inferior = Q25 - 1.5 * IQR\n",
        "limite_superior = Q75 + 1.5 * IQR\n",
        "\n",
        "limite_inferior = max(limite_inferior, 0)\n",
        "\n",
        "outliers = survey_new[(survey_new['WorkExp'] > limite_superior) | (survey_new['WorkExp'] < limite_inferior)]\n",
        "\n",
        "print(f\"A quantidade de observações consideradas outliers: {outliers.shape[0]}\")\n",
        "\n",
        "# A saída indica que 1463 observações foram identificadas como outliers com base nos limites de experiência de trabalho. Esses valores estão fora do intervalo considerado normal para os dados.\n"
      ]
    },
    {
      "cell_type": "code",
      "execution_count": null,
      "metadata": {
        "metadata": {},
        "id": "LjD7Fpmw1swO"
      },
      "outputs": [],
      "source": [
        "#9 ---------------------------\n",
        "total_devs = len(survey_new)\n",
        "\n",
        "profissionais = survey_new['MainBranch'].eq('I am a developer by profession').sum()\n",
        "aprendizes = survey_new['MainBranch'].eq('I am learning to code').sum()\n",
        "\n",
        "perc_profissionais = (profissionais / total_devs) * 100\n",
        "perc_aprendizes = (aprendizes / total_devs) * 100\n",
        "\n",
        "print(f\"Desenvolvedores profissionais: {perc_profissionais:.2f}%\")\n",
        "print(f\"Aprendizes de programação: {perc_aprendizes:.2f}%\")\n",
        "\n",
        "# Com base nos dados do MainBranch:\n",
        "\n",
        "# 75.39% dos respondentes são desenvolvedores profissionais.\n",
        "\n",
        "# 5.56% estão aprendendo a programar.\n"
      ]
    },
    {
      "cell_type": "code",
      "execution_count": null,
      "metadata": {
        "metadata": {},
        "id": "_KaKTAm21swO"
      },
      "outputs": [],
      "source": [
        "#10 ---------------------------\n",
        "print(survey_new.groupby('MainBranch')['WorkExp'].mean().sort_values(ascending=False))\n",
        "print(survey_new.groupby('MainBranch')['WorkExp'].median().sort_values(ascending=False))\n",
        "\n",
        "# Médias de Experiência de Trabalho:\n",
        "\n",
        "# I used to be a developer by profession, but no longer am: 17.46 anos\n",
        "# I am not primarily a developer, but I write code sometimes as part of my work/studies: 13.51 anos\n",
        "# I am a developer by profession: 11.20 anos\n",
        "# I code primarily as a hobby: 11.00 anos\n",
        "# I am learning to code: 7.10 anos\n",
        "# None of these: NaN (não disponível)\n",
        "\n",
        "# Medianas de Experiência de Trabalho:\n",
        "\n",
        "# I used to be a developer by profession, but no longer am: 17 anos\n",
        "# I am not primarily a developer, but I write code sometimes as part of my work/studies: 11 anos\n",
        "# I am a developer by profession: 9 anos\n",
        "# I code primarily as a hobby: 8 anos\n",
        "# I am learning to code: 3 anos\n",
        "# None of these: NaN (não disponível)"
      ]
    },
    {
      "cell_type": "code",
      "execution_count": null,
      "metadata": {
        "metadata": {},
        "id": "vmkiI3O91swO"
      },
      "outputs": [],
      "source": [
        "#11 ---------------------------\n",
        "print(survey_new['Country'].nunique())\n",
        "\n",
        "# Os dados incluem informações de 185 países diferentes."
      ]
    },
    {
      "cell_type": "code",
      "execution_count": null,
      "metadata": {
        "metadata": {},
        "id": "ZPECsv_a1swO"
      },
      "outputs": [],
      "source": [
        "#12 ---------------------------\n",
        "selected_countries = survey_new[(survey_new['Country'] == 'Germany') | (survey_new['Country'] == 'Sweden') | (survey_new['Country'] == 'France') | (survey_new['Country'] == 'Netherlands')]\n",
        "\n",
        "survey_country = pd.DataFrame(selected_countries)\n",
        "\n",
        "num_records = survey_country.shape[0]\n",
        "\n",
        "pivot_calculation = survey_country.pivot_table(values='ConvertedCompYearly', index=['Country'], aggfunc=['mean', 'std'])\n",
        "\n",
        "print(f\"Número de observações: {num_records}\")\n",
        "print(pivot_calculation)\n",
        "\n",
        "# Foram registradas 14,285 observações.\n",
        "# Netherlands apresenta a maior média salarial: 85,128.48 e o maior desvio padrão: 59,455.49."
      ]
    },
    {
      "cell_type": "code",
      "execution_count": null,
      "metadata": {
        "metadata": {},
        "id": "00tM5FTP1swP"
      },
      "outputs": [],
      "source": [
        "#13 ---------------------------\n",
        "total_country = survey_country['MainBranch'].shape[0]\n",
        "dev_country = survey_country[survey_country['MainBranch'] == 'I am a developer by profession'].shape[0]\n",
        "iniciante_country = survey_country[survey_country['MainBranch'] == 'I am learning to code'].shape[0]\n",
        "\n",
        "porcentagem_dev = (dev_country / total_country) * 100\n",
        "porcentagem_iniciante = (iniciante_country / total_country) * 100\n",
        "\n",
        "total_new = survey_new['MainBranch'].shape[0]\n",
        "dev_new = survey_new[survey_new['MainBranch'] == 'I am a developer by profession'].shape[0]\n",
        "iniciante_new = survey_new[survey_new['MainBranch'] == 'I am learning to code'].shape[0]\n",
        "\n",
        "por_profissao = (dev_new / total_new) * 100\n",
        "por_iniciante = (iniciante_new / total_new) * 100\n",
        "\n",
        "print(f\"Porcentagem de desenvolvedores nos países selecionados: {porcentagem_dev:.2f}%\")\n",
        "print(f\"Porcentagem de aprendizes nos países selecionados: {porcentagem_iniciante:.2f}%\")\n",
        "print(f\"Porcentagem de desenvolvedores no dataframe original: {por_profissao:.2f}%\")\n",
        "print(f\"Porcentagem de aprendizes no dataframe original: {por_iniciante:.2f}%\")\n",
        "\n",
        "if dev_new > dev_country:\n",
        "    print(\"Há mais desenvolvedores profissionais no dataframe original 'survey_new'.\")\n",
        "else:\n",
        "    print(\"Há mais desenvolvedores profissionais nos países selecionados no dataframe 'survey_country'.\")\n",
        "\n",
        "# A porcentagem de desenvolvedores profissionais é maior no survey_country.\n",
        "# Por outro lado, a porcentagem de aprendizes com intenção de se tornar desenvolvedores é maior no survey_new."
      ]
    },
    {
      "cell_type": "code",
      "execution_count": null,
      "metadata": {
        "metadata": {},
        "id": "Ct5_fale1swP"
      },
      "outputs": [],
      "source": [
        "#14 ---------------------------\n",
        "survey_country_ind = survey_country[survey_country['Industry'].isin(['Information Services', 'IT', 'Software Development', 'Technology', 'Financial Services', 'Insurance'])]\n",
        "\n",
        "remuneracao_media = survey_country_ind.groupby(['Country', 'Industry'])['ConvertedCompYearly'].mean()\n",
        "\n",
        "print(remuneracao_media)\n",
        "\n",
        "#A maior média salarial é na indústria 'Financial Services' no país 'Netherlands', com um valor de 100696.18.\n",
        "#A menor média salarial é na indústria 'Insurance' no país 'France', com um valor de 58325.50."
      ]
    },
    {
      "cell_type": "code",
      "execution_count": null,
      "metadata": {
        "metadata": {},
        "id": "aujQEboZ1swP"
      },
      "outputs": [],
      "source": [
        "#15 ---------------------------\n",
        "experiencia_ind = survey_country_ind.groupby('Industry')['WorkExp'].mean()\n",
        "\n",
        "print(experiencia_ind)\n",
        "\n",
        "# A indústria com mais experiência é: Financial Services, com uma média de 12.02 anos.\n",
        "# A indústria com menos experiência é: Insurance, com uma média de 11.19 anos."
      ]
    },
    {
      "cell_type": "code",
      "execution_count": null,
      "metadata": {
        "metadata": {},
        "id": "CrMQA1Ca1swP"
      },
      "outputs": [],
      "source": [
        "#16 ---------------------------\n",
        "sns.histplot(data=survey_country_ind, x='ConvertedCompYearly', color='blue', bins=30, kde=True)\n",
        "\n",
        "sns.reset_orig()\n",
        "\n",
        "plt.show()\n",
        "\n",
        "#Gráfico de histograma (histplot) mostra a distribuição dos salários anuais, destacando a frequência de diferentes faixas salariais."
      ]
    },
    {
      "cell_type": "code",
      "execution_count": null,
      "metadata": {
        "metadata": {},
        "id": "kIF4CMJh1swP"
      },
      "outputs": [],
      "source": [
        "#17 ---------------------------\n",
        "sns.scatterplot(data=survey_country_ind, x='Industry', y='ConvertedCompYearly', hue='Country')\n",
        "\n",
        "plt.xticks(rotation = 90)\n",
        "\n",
        "plt.ylim(-10000, 1500000)\n",
        "\n",
        "plt.show()\n",
        "\n",
        "#Gráfico de dispersão (scatterplot) mostra a relação entre a indústria e o salário anual convertido, destacando a distribuição dos salários por setor."
      ]
    },
    {
      "cell_type": "code",
      "execution_count": null,
      "metadata": {
        "metadata": {},
        "id": "podm7Qq01swP"
      },
      "outputs": [],
      "source": [
        "#18 ---------------------------\n",
        "sns.violinplot(data=survey_country_ind, y='ConvertedCompYearly', x='Industry', hue='Industry')\n",
        "\n",
        "plt.xticks(rotation = 90)\n",
        "\n",
        "plt.ylim(-10000, 1500000)\n",
        "\n",
        "plt.show()\n",
        "\n",
        "#Gráfico de violino (violinplot) exibe a distribuição salarial por indústria, mostrando a variação e a densidade dos salários dentro de cada setor."
      ]
    },
    {
      "cell_type": "code",
      "execution_count": null,
      "metadata": {
        "metadata": {},
        "id": "Qi13pUOu1swP"
      },
      "outputs": [],
      "source": [
        "#19 ---------------------------\n",
        "sns.countplot(data=survey_country_ind, x='Age')\n",
        "plt.title('Distribuição de Idade dos Profissionais da Área de Dados')\n",
        "\n",
        "plt.xticks(rotation=90)\n",
        "\n",
        "plt.show()\n",
        "\n",
        "#Gráfico de contagem (countplot) exibe a distribuição de indivíduos na faixa etária de 25 a 34 anos, mostrando a quantidade de pessoas em cada categoria analisada.\n"
      ]
    },
    {
      "cell_type": "code",
      "execution_count": null,
      "metadata": {
        "metadata": {},
        "id": "HH32pEHN1swP"
      },
      "outputs": [],
      "source": [
        "#20 ---------------------------\n",
        "sns.boxplot(data=survey_country_ind, y='WorkExp', x='RemoteWork', hue='RemoteWork')\n",
        "\n",
        "plt.xticks(rotation=90)\n",
        "\n",
        "plt.show()\n",
        "\n",
        "#Gráfico de caixa (boxplot) mostra a relação entre a experiência de trabalho e a modalidade remota, destacando as diferenças entre quem trabalha de casa e quem não trabalha remotamente."
      ]
    }
  ],
  "metadata": {
    "kernelspec": {
      "display_name": "Python 3",
      "language": "python",
      "name": "python3"
    },
    "language_info": {
      "codemirror_mode": {
        "name": "ipython",
        "version": 3
      },
      "file_extension": ".py",
      "mimetype": "text/x-python",
      "name": "python",
      "nbconvert_exporter": "python",
      "pygments_lexer": "ipython3",
      "version": "3.12.2"
    },
    "colab": {
      "provenance": [],
      "include_colab_link": true
    }
  },
  "nbformat": 4,
  "nbformat_minor": 0
}